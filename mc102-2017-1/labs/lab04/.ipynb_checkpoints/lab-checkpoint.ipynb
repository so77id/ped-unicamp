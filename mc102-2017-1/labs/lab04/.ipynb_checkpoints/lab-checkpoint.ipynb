{
 "cells": [
  {
   "cell_type": "code",
   "execution_count": 1,
   "metadata": {},
   "outputs": [
    {
     "name": "stdout",
     "output_type": "stream",
     "text": [
      "&&&&&&&&&&\n",
      "&&&&&&&&&&\n",
      "&&&&&&&&&&\n",
      "&&&&&&&&&&\n",
      "&&&&&&&&&&\n"
     ]
    }
   ],
   "source": [
    "symbol = '&'\n",
    "base = 10\n",
    "\n",
    "\n",
    "\n",
    "for i in range(1, base, 2):\n",
    "    print(base * symbol)"
   ]
  },
  {
   "cell_type": "code",
   "execution_count": 2,
   "metadata": {},
   "outputs": [
    {
     "name": "stdout",
     "output_type": "stream",
     "text": [
      "&&&&&&&&&&          &&&&&&&&&&\n",
      "&&&&&&&&&&          &&&&&&&&&&\n",
      "&&&&&&&&&&          &&&&&&&&&&\n",
      "&&&&&&&&&&          &&&&&&&&&&\n",
      "&&&&&&&&&&          &&&&&&&&&&\n"
     ]
    }
   ],
   "source": [
    "\n",
    "for i in range(1, base, 2):\n",
    "    text = base * symbol\n",
    "    print(text + 10 * \" \" + text)"
   ]
  },
  {
   "cell_type": "code",
   "execution_count": 3,
   "metadata": {},
   "outputs": [
    {
     "name": "stdout",
     "output_type": "stream",
     "text": [
      "&*********\n",
      "&&&*******\n",
      "&&&&&*****\n",
      "&&&&&&&***\n",
      "&&&&&&&&&*\n"
     ]
    }
   ],
   "source": [
    "symbol2 = '*'\n",
    "\n",
    "for i in range(1, base, 2):\n",
    "    res = base - i\n",
    "    text = i * symbol + res * symbol2\n",
    "    print(text)"
   ]
  },
  {
   "cell_type": "code",
   "execution_count": 6,
   "metadata": {},
   "outputs": [
    {
     "name": "stdout",
     "output_type": "stream",
     "text": [
      "True\n",
      "False\n",
      "False\n"
     ]
    },
    {
     "ename": "AttributeError",
     "evalue": "'int' object has no attribute 'isdigit'",
     "output_type": "error",
     "traceback": [
      "\u001b[0;31m---------------------------------------------------------------------------\u001b[0m",
      "\u001b[0;31mAttributeError\u001b[0m                            Traceback (most recent call last)",
      "\u001b[0;32m<ipython-input-6-c2ef49dc433c>\u001b[0m in \u001b[0;36m<module>\u001b[0;34m()\u001b[0m\n\u001b[1;32m      7\u001b[0m \u001b[0mprint\u001b[0m\u001b[0;34m(\u001b[0m\u001b[0mvar2\u001b[0m\u001b[0;34m.\u001b[0m\u001b[0misdigit\u001b[0m\u001b[0;34m(\u001b[0m\u001b[0;34m)\u001b[0m\u001b[0;34m)\u001b[0m\u001b[0;34m\u001b[0m\u001b[0m\n\u001b[1;32m      8\u001b[0m \u001b[0mprint\u001b[0m\u001b[0;34m(\u001b[0m\u001b[0mvar3\u001b[0m\u001b[0;34m.\u001b[0m\u001b[0misdigit\u001b[0m\u001b[0;34m(\u001b[0m\u001b[0;34m)\u001b[0m\u001b[0;34m)\u001b[0m\u001b[0;34m\u001b[0m\u001b[0m\n\u001b[0;32m----> 9\u001b[0;31m \u001b[0mprint\u001b[0m\u001b[0;34m(\u001b[0m\u001b[0mvar4\u001b[0m\u001b[0;34m.\u001b[0m\u001b[0misdigit\u001b[0m\u001b[0;34m(\u001b[0m\u001b[0;34m)\u001b[0m\u001b[0;34m)\u001b[0m\u001b[0;34m\u001b[0m\u001b[0m\n\u001b[0m",
      "\u001b[0;31mAttributeError\u001b[0m: 'int' object has no attribute 'isdigit'"
     ]
    }
   ],
   "source": [
    "var1 = \"234\"\n",
    "var2 = \"23.2\"\n",
    "var3 = \"abc\"\n",
    "var4 = 123\n",
    "\n",
    "print(var1.isdigit())\n",
    "print(var2.isdigit())\n",
    "print(var3.isdigit())\n",
    "print(var4.isdigit())"
   ]
  },
  {
   "cell_type": "code",
   "execution_count": 10,
   "metadata": {},
   "outputs": [
    {
     "name": "stdout",
     "output_type": "stream",
     "text": [
      "    &\n",
      "   &&&\n",
      "  &&&&&\n",
      " &&&&&&&\n",
      "&&&&&&&&&\n",
      "&&&&&&&&&&&\n",
      "&&&&&&&&&\n",
      " &&&&&&&\n",
      "  &&&&&\n",
      "   &&&\n",
      "    &\n"
     ]
    }
   ],
   "source": [
    "for i in range(1, base, 2):\n",
    "    res = (base - i)//2\n",
    "    print(res * \" \" + i * symbol)\n",
    "print(\"\")\n",
    "for i in range(base+1, 0, -2):\n",
    "    res = (base - i)//2\n",
    "    print(res * \" \" + i * symbol)"
   ]
  },
  {
   "cell_type": "code",
   "execution_count": null,
   "metadata": {},
   "outputs": [],
   "source": []
  }
 ],
 "metadata": {
  "kernelspec": {
   "display_name": "my-virtualenv-name",
   "language": "python",
   "name": "my-virtualenv-name"
  },
  "language_info": {
   "codemirror_mode": {
    "name": "ipython",
    "version": 3
   },
   "file_extension": ".py",
   "mimetype": "text/x-python",
   "name": "python",
   "nbconvert_exporter": "python",
   "pygments_lexer": "ipython3",
   "version": "3.6.0"
  }
 },
 "nbformat": 4,
 "nbformat_minor": 2
}
