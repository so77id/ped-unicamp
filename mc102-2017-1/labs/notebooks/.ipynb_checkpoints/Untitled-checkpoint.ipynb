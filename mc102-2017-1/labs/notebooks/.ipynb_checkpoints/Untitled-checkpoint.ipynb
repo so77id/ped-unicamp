{
 "cells": [
  {
   "cell_type": "code",
   "execution_count": 2,
   "metadata": {},
   "outputs": [],
   "source": [
    "def print_mat(map):\n",
    "    for i in range(len(map)):\n",
    "        print(\" \".join(map[i]))\n",
    "\n",
    "inp = input()\n",
    "mat = []\n",
    "\n",
    "while not inp.isdigit():\n",
    "    l = inp.split()\n",
    "    mat.append(l)\n",
    "    inp = input()\n",
    "\n",
    "print_mat(mat)\n"
   ]
  },
  {
   "cell_type": "code",
   "execution_count": 3,
   "metadata": {},
   "outputs": [],
   "source": [
    "print_mat(mat)"
   ]
  },
  {
   "cell_type": "code",
   "execution_count": null,
   "metadata": {},
   "outputs": [],
   "source": []
  }
 ],
 "metadata": {
  "kernelspec": {
   "display_name": "my-virtualenv-name",
   "language": "python",
   "name": "my-virtualenv-name"
  },
  "language_info": {
   "codemirror_mode": {
    "name": "ipython",
    "version": 3
   },
   "file_extension": ".py",
   "mimetype": "text/x-python",
   "name": "python",
   "nbconvert_exporter": "python",
   "pygments_lexer": "ipython3",
   "version": "3.6.0"
  }
 },
 "nbformat": 4,
 "nbformat_minor": 2
}
