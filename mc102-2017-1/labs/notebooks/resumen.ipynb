{
 "cells": [
  {
   "cell_type": "code",
   "execution_count": 1,
   "metadata": {},
   "outputs": [
    {
     "name": "stdout",
     "output_type": "stream",
     "text": [
      "<class 'str'>\n",
      "<class 'str'>\n",
      "<class 'str'>\n",
      "<class 'int'>\n",
      "<class 'float'>\n"
     ]
    }
   ],
   "source": [
    "# Data types\n",
    "s = \"string\" # string\n",
    "si = \"15\"    # string\n",
    "sf = \"1.5\"   # string\n",
    "i = 15       # string\n",
    "f = 1.5      # string\n",
    "\n",
    "print(type(s))\n",
    "print(type(si))\n",
    "print(type(sf))\n",
    "print(type(i))\n",
    "print(type(f))"
   ]
  },
  {
   "cell_type": "code",
   "execution_count": 2,
   "metadata": {},
   "outputs": [
    {
     "name": "stdout",
     "output_type": "stream",
     "text": [
      "15 <class 'int'>\n",
      "1.5 <class 'float'>\n"
     ]
    }
   ],
   "source": [
    "isi = int(si) # string to int\n",
    "fsf = float(sf) # string to float\n",
    "\n",
    "print(isi, type(isi))\n",
    "print(fsf, type(fsf))"
   ]
  },
  {
   "cell_type": "code",
   "execution_count": 3,
   "metadata": {},
   "outputs": [
    {
     "ename": "ValueError",
     "evalue": "invalid literal for int() with base 10: '1.5'",
     "output_type": "error",
     "traceback": [
      "\u001b[0;31m---------------------------------------------------------------------------\u001b[0m",
      "\u001b[0;31mValueError\u001b[0m                                Traceback (most recent call last)",
      "\u001b[0;32m<ipython-input-3-c8d54cbbcfa4>\u001b[0m in \u001b[0;36m<module>\u001b[0;34m()\u001b[0m\n\u001b[0;32m----> 1\u001b[0;31m \u001b[0mint\u001b[0m\u001b[0;34m(\u001b[0m\u001b[0msf\u001b[0m\u001b[0;34m)\u001b[0m\u001b[0;34m\u001b[0m\u001b[0m\n\u001b[0m",
      "\u001b[0;31mValueError\u001b[0m: invalid literal for int() with base 10: '1.5'"
     ]
    }
   ],
   "source": [
    "int(sf)"
   ]
  },
  {
   "cell_type": "code",
   "execution_count": null,
   "metadata": {},
   "outputs": [],
   "source": [
    "float(si)"
   ]
  },
  {
   "cell_type": "code",
   "execution_count": 4,
   "metadata": {},
   "outputs": [
    {
     "ename": "ValueError",
     "evalue": "invalid literal for int() with base 10: 'string'",
     "output_type": "error",
     "traceback": [
      "\u001b[0;31m---------------------------------------------------------------------------\u001b[0m",
      "\u001b[0;31mValueError\u001b[0m                                Traceback (most recent call last)",
      "\u001b[0;32m<ipython-input-4-469dffed031a>\u001b[0m in \u001b[0;36m<module>\u001b[0;34m()\u001b[0m\n\u001b[0;32m----> 1\u001b[0;31m \u001b[0mint\u001b[0m\u001b[0;34m(\u001b[0m\u001b[0ms\u001b[0m\u001b[0;34m)\u001b[0m\u001b[0;34m\u001b[0m\u001b[0m\n\u001b[0m",
      "\u001b[0;31mValueError\u001b[0m: invalid literal for int() with base 10: 'string'"
     ]
    }
   ],
   "source": [
    "int(s)"
   ]
  },
  {
   "cell_type": "code",
   "execution_count": 16,
   "metadata": {},
   "outputs": [
    {
     "name": "stdout",
     "output_type": "stream",
     "text": [
      "+: 16\n",
      "-: 4\n",
      "/: 1.6666666666666667\n",
      "*: 60\n",
      "//: 1\n",
      "**: 1000000\n",
      "%: 4\n",
      "+=: 10\n",
      "-=: 4\n",
      "*=: 40\n",
      "/=: 6.666666666666667\n",
      "//=: 1.0\n"
     ]
    }
   ],
   "source": [
    "# Operators\n",
    "# =\n",
    "a = 10\n",
    "b = 6\n",
    "c = 0\n",
    "# +\n",
    "print(\"+:\", a + b)\n",
    "# -\n",
    "print(\"-:\", a - b)\n",
    "# /\n",
    "print(\"/:\", a / b)\n",
    "# *\n",
    "print(\"*:\", a * b)\n",
    "# //\n",
    "print(\"//:\", a // b)\n",
    "# **\n",
    "print(\"**:\", a ** b)\n",
    "# %\n",
    "print(\"%:\", a % b)\n",
    "# +=\n",
    "c += a\n",
    "print(\"+=:\", c)\n",
    "# -=\n",
    "c -= b\n",
    "print(\"-=:\", c)\n",
    "# *=\n",
    "c *= a\n",
    "print(\"*=:\", c)\n",
    "# /=\n",
    "c /= b\n",
    "print(\"/=:\", c)\n",
    "# //=\n",
    "c //= b\n",
    "print(\"//=:\", c)\n"
   ]
  },
  {
   "cell_type": "code",
   "execution_count": 20,
   "metadata": {},
   "outputs": [
    {
     "name": "stdout",
     "output_type": "stream",
     "text": [
      "== False\n",
      "> True\n",
      "< False\n",
      ">= True\n",
      "<= False\n",
      "!= True\n",
      "and True\n",
      "or True\n",
      "and + or: True\n"
     ]
    }
   ],
   "source": [
    "# ==\n",
    "print(\"==\", a == b)\n",
    "# >\n",
    "print(\">\", a > b)\n",
    "# <\n",
    "print(\"<\", a < b)\n",
    "# >=\n",
    "print(\">=\", a >= b)\n",
    "# <=\n",
    "print(\"<=\", a <= b)\n",
    "# !=\n",
    "print(\"!=\", a != b)\n",
    "# and\n",
    "print(\"and\", a == 10  and b == 6)\n",
    "# or\n",
    "print(\"or\", a == 10 or b == 0)\n",
    "\n",
    "# and + or\n",
    "print(\"and + or:\",  (a != b and a > b) or (a == 10 and b == 6) )\n"
   ]
  },
  {
   "cell_type": "code",
   "execution_count": 5,
   "metadata": {},
   "outputs": [
    {
     "name": "stdout",
     "output_type": "stream",
     "text": [
      "equal\n"
     ]
    }
   ],
   "source": [
    "if isi == i:\n",
    "    print(\"equal\")\n",
    "else:\n",
    "    print(\"not equal\")"
   ]
  },
  {
   "cell_type": "code",
   "execution_count": 6,
   "metadata": {},
   "outputs": [
    {
     "name": "stdout",
     "output_type": "stream",
     "text": [
      "equal\n"
     ]
    }
   ],
   "source": [
    "if fsf == f:\n",
    "    print(\"equal\")\n",
    "else:\n",
    "    print(\"not equal\")"
   ]
  },
  {
   "cell_type": "code",
   "execution_count": 7,
   "metadata": {},
   "outputs": [
    {
     "name": "stdout",
     "output_type": "stream",
     "text": [
      "not equal\n"
     ]
    }
   ],
   "source": [
    "if fsf == isi:\n",
    "    print(\"equal\")\n",
    "else:\n",
    "    print(\"not equal\")"
   ]
  },
  {
   "cell_type": "code",
   "execution_count": 9,
   "metadata": {},
   "outputs": [
    {
     "name": "stdout",
     "output_type": "stream",
     "text": [
      "<class 'str'>\n"
     ]
    }
   ],
   "source": [
    "inp = input() # str\n",
    "print(type(inp))"
   ]
  },
  {
   "cell_type": "code",
   "execution_count": 10,
   "metadata": {},
   "outputs": [
    {
     "name": "stdout",
     "output_type": "stream",
     "text": [
      "zero\n"
     ]
    }
   ],
   "source": [
    "inp = int(inp)\n",
    "\n",
    "if inp > 0:\n",
    "    print(\"positive\")\n",
    "elif inp < 0:\n",
    "    print(\"negative\")\n",
    "else:\n",
    "    print(\"zero\")"
   ]
  },
  {
   "cell_type": "code",
   "execution_count": 11,
   "metadata": {},
   "outputs": [
    {
     "name": "stdout",
     "output_type": "stream",
     "text": [
      "0\n",
      "1\n",
      "2\n",
      "3\n",
      "4\n",
      "5\n",
      "6\n",
      "7\n",
      "8\n",
      "9\n"
     ]
    }
   ],
   "source": [
    "# Loop's\n",
    "\n",
    "# while condition:\n",
    "#   code\n",
    "\n",
    "count = 0\n",
    "while count < 10:\n",
    "    print(count)\n",
    "    count += 1"
   ]
  },
  {
   "cell_type": "code",
   "execution_count": 33,
   "metadata": {},
   "outputs": [
    {
     "name": "stdout",
     "output_type": "stream",
     "text": [
      "i: 0 j: 10 *: 0\n",
      "i: 1 j: 20 *: 20\n",
      "i: 2 j: 30 *: 60\n"
     ]
    }
   ],
   "source": [
    "\n",
    "# for it in iterator:\n",
    "#    code\n",
    "# range(fin)\n",
    "# range(ini, fin)\n",
    "# range(ini, fin, step)\n",
    "n = int(input())\n",
    "for i in range(n):\n",
    "    j = int(input())\n",
    "    print (\"i:\", i, \"j:\", j, \"*:\", j * i)"
   ]
  },
  {
   "cell_type": "code",
   "execution_count": 13,
   "metadata": {},
   "outputs": [
    {
     "name": "stdout",
     "output_type": "stream",
     "text": [
      "-2\n",
      "1\n",
      "4\n",
      "7\n"
     ]
    }
   ],
   "source": [
    "for i in range(-2, 10, 3):\n",
    "    print(i)\n"
   ]
  },
  {
   "cell_type": "code",
   "execution_count": 28,
   "metadata": {},
   "outputs": [
    {
     "name": "stdout",
     "output_type": "stream",
     "text": [
      "oi\n",
      " mundo%mundo\n"
     ]
    }
   ],
   "source": [
    "print(\"oi\\n mundo\", end=\"%\")\n",
    "print(\"mundo\")"
   ]
  },
  {
   "cell_type": "code",
   "execution_count": 36,
   "metadata": {},
   "outputs": [
    {
     "name": "stdout",
     "output_type": "stream",
     "text": [
      "8\n"
     ]
    }
   ],
   "source": []
  },
  {
   "cell_type": "code",
   "execution_count": null,
   "metadata": {},
   "outputs": [],
   "source": []
  }
 ],
 "metadata": {
  "kernelspec": {
   "display_name": "my-virtualenv-name",
   "language": "python",
   "name": "my-virtualenv-name"
  },
  "language_info": {
   "codemirror_mode": {
    "name": "ipython",
    "version": 3
   },
   "file_extension": ".py",
   "mimetype": "text/x-python",
   "name": "python",
   "nbconvert_exporter": "python",
   "pygments_lexer": "ipython3",
   "version": "3.6.0"
  }
 },
 "nbformat": 4,
 "nbformat_minor": 2
}
