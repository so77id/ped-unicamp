{
 "cells": [
  {
   "cell_type": "code",
   "execution_count": 1,
   "metadata": {},
   "outputs": [
    {
     "name": "stdout",
     "output_type": "stream",
     "text": [
      "<class 'str'>\n",
      "<class 'str'>\n",
      "<class 'str'>\n",
      "<class 'int'>\n",
      "<class 'float'>\n"
     ]
    }
   ],
   "source": [
    "# Data types\n",
    "s = \"string\" # string\n",
    "si = \"15\"    # string\n",
    "sf = \"1.5\"   # string\n",
    "i = 15       # string\n",
    "f = 1.5      # string\n",
    "\n",
    "print(type(s))\n",
    "print(type(si))\n",
    "print(type(sf))\n",
    "print(type(i))\n",
    "print(type(f))"
   ]
  },
  {
   "cell_type": "code",
   "execution_count": 2,
   "metadata": {},
   "outputs": [
    {
     "name": "stdout",
     "output_type": "stream",
     "text": [
      "15 <class 'int'>\n",
      "1.5 <class 'float'>\n"
     ]
    }
   ],
   "source": [
    "isi = int(si) # string to int\n",
    "fsf = float(sf) # string to float\n",
    "\n",
    "print(isi, type(isi))\n",
    "print(fsf, type(fsf))"
   ]
  },
  {
   "cell_type": "code",
   "execution_count": 3,
   "metadata": {},
   "outputs": [
    {
     "ename": "ValueError",
     "evalue": "invalid literal for int() with base 10: '1.5'",
     "output_type": "error",
     "traceback": [
      "\u001b[0;31m---------------------------------------------------------------------------\u001b[0m",
      "\u001b[0;31mValueError\u001b[0m                                Traceback (most recent call last)",
      "\u001b[0;32m<ipython-input-3-c8d54cbbcfa4>\u001b[0m in \u001b[0;36m<module>\u001b[0;34m()\u001b[0m\n\u001b[0;32m----> 1\u001b[0;31m \u001b[0mint\u001b[0m\u001b[0;34m(\u001b[0m\u001b[0msf\u001b[0m\u001b[0;34m)\u001b[0m\u001b[0;34m\u001b[0m\u001b[0m\n\u001b[0m",
      "\u001b[0;31mValueError\u001b[0m: invalid literal for int() with base 10: '1.5'"
     ]
    }
   ],
   "source": [
    "int(sf)"
   ]
  },
  {
   "cell_type": "code",
   "execution_count": null,
   "metadata": {},
   "outputs": [],
   "source": [
    "float(si)"
   ]
  },
  {
   "cell_type": "code",
   "execution_count": 4,
   "metadata": {},
   "outputs": [
    {
     "ename": "ValueError",
     "evalue": "invalid literal for int() with base 10: 'string'",
     "output_type": "error",
     "traceback": [
      "\u001b[0;31m---------------------------------------------------------------------------\u001b[0m",
      "\u001b[0;31mValueError\u001b[0m                                Traceback (most recent call last)",
      "\u001b[0;32m<ipython-input-4-469dffed031a>\u001b[0m in \u001b[0;36m<module>\u001b[0;34m()\u001b[0m\n\u001b[0;32m----> 1\u001b[0;31m \u001b[0mint\u001b[0m\u001b[0;34m(\u001b[0m\u001b[0ms\u001b[0m\u001b[0;34m)\u001b[0m\u001b[0;34m\u001b[0m\u001b[0m\n\u001b[0m",
      "\u001b[0;31mValueError\u001b[0m: invalid literal for int() with base 10: 'string'"
     ]
    }
   ],
   "source": [
    "int(s)"
   ]
  },
  {
   "cell_type": "code",
   "execution_count": 16,
   "metadata": {},
   "outputs": [
    {
     "name": "stdout",
     "output_type": "stream",
     "text": [
      "+: 16\n",
      "-: 4\n",
      "/: 1.6666666666666667\n",
      "*: 60\n",
      "//: 1\n",
      "**: 1000000\n",
      "%: 4\n",
      "+=: 10\n",
      "-=: 4\n",
      "*=: 40\n",
      "/=: 6.666666666666667\n",
      "//=: 1.0\n"
     ]
    }
   ],
   "source": [
    "# Operators\n",
    "# =\n",
    "a = 10\n",
    "b = 6\n",
    "c = 0\n",
    "# +\n",
    "print(\"+:\", a + b)\n",
    "# -\n",
    "print(\"-:\", a - b)\n",
    "# /\n",
    "print(\"/:\", a / b)\n",
    "# *\n",
    "print(\"*:\", a * b)\n",
    "# //\n",
    "print(\"//:\", a // b)\n",
    "# **\n",
    "print(\"**:\", a ** b)\n",
    "# %\n",
    "print(\"%:\", a % b)\n",
    "# +=\n",
    "c += a\n",
    "print(\"+=:\", c)\n",
    "# -=\n",
    "c -= b\n",
    "print(\"-=:\", c)\n",
    "# *=\n",
    "c *= a\n",
    "print(\"*=:\", c)\n",
    "# /=\n",
    "c /= b\n",
    "print(\"/=:\", c)\n",
    "# //=\n",
    "c //= b\n",
    "print(\"//=:\", c)\n"
   ]
  },
  {
   "cell_type": "code",
   "execution_count": 20,
   "metadata": {},
   "outputs": [
    {
     "name": "stdout",
     "output_type": "stream",
     "text": [
      "== False\n",
      "> True\n",
      "< False\n",
      ">= True\n",
      "<= False\n",
      "!= True\n",
      "and True\n",
      "or True\n",
      "and + or: True\n"
     ]
    }
   ],
   "source": [
    "# ==\n",
    "print(\"==\", a == b)\n",
    "# >\n",
    "print(\">\", a > b)\n",
    "# <\n",
    "print(\"<\", a < b)\n",
    "# >=\n",
    "print(\">=\", a >= b)\n",
    "# <=\n",
    "print(\"<=\", a <= b)\n",
    "# !=\n",
    "print(\"!=\", a != b)\n",
    "# and\n",
    "print(\"and\", a == 10  and b == 6)\n",
    "# or\n",
    "print(\"or\", a == 10 or b == 0)\n",
    "\n",
    "# and + or\n",
    "print(\"and + or:\",  (a != b and a > b) or (a == 10 and b == 6) )\n"
   ]
  },
  {
   "cell_type": "code",
   "execution_count": 5,
   "metadata": {},
   "outputs": [
    {
     "name": "stdout",
     "output_type": "stream",
     "text": [
      "equal\n"
     ]
    }
   ],
   "source": [
    "if isi == i:\n",
    "    print(\"equal\")\n",
    "else:\n",
    "    print(\"not equal\")"
   ]
  },
  {
   "cell_type": "code",
   "execution_count": 6,
   "metadata": {},
   "outputs": [
    {
     "name": "stdout",
     "output_type": "stream",
     "text": [
      "equal\n"
     ]
    }
   ],
   "source": [
    "if fsf == f:\n",
    "    print(\"equal\")\n",
    "else:\n",
    "    print(\"not equal\")"
   ]
  },
  {
   "cell_type": "code",
   "execution_count": 7,
   "metadata": {},
   "outputs": [
    {
     "name": "stdout",
     "output_type": "stream",
     "text": [
      "not equal\n"
     ]
    }
   ],
   "source": [
    "if fsf == isi:\n",
    "    print(\"equal\")\n",
    "else:\n",
    "    print(\"not equal\")"
   ]
  },
  {
   "cell_type": "code",
   "execution_count": 9,
   "metadata": {},
   "outputs": [
    {
     "name": "stdout",
     "output_type": "stream",
     "text": [
      "<class 'str'>\n"
     ]
    }
   ],
   "source": [
    "inp = input() # str\n",
    "print(type(inp))"
   ]
  },
  {
   "cell_type": "code",
   "execution_count": 10,
   "metadata": {},
   "outputs": [
    {
     "name": "stdout",
     "output_type": "stream",
     "text": [
      "zero\n"
     ]
    }
   ],
   "source": [
    "inp = int(inp)\n",
    "\n",
    "if inp > 0:\n",
    "    print(\"positive\")\n",
    "elif inp < 0:\n",
    "    print(\"negative\")\n",
    "else:\n",
    "    print(\"zero\")"
   ]
  },
  {
   "cell_type": "code",
   "execution_count": 11,
   "metadata": {},
   "outputs": [
    {
     "name": "stdout",
     "output_type": "stream",
     "text": [
      "0\n",
      "1\n",
      "2\n",
      "3\n",
      "4\n",
      "5\n",
      "6\n",
      "7\n",
      "8\n",
      "9\n"
     ]
    }
   ],
   "source": [
    "# Loop's\n",
    "\n",
    "# while condition:\n",
    "#   code\n",
    "\n",
    "count = 0\n",
    "while count < 10:\n",
    "    print(count)\n",
    "    count += 1"
   ]
  },
  {
   "cell_type": "code",
   "execution_count": 33,
   "metadata": {},
   "outputs": [
    {
     "name": "stdout",
     "output_type": "stream",
     "text": [
      "i: 0 j: 10 *: 0\n",
      "i: 1 j: 20 *: 20\n",
      "i: 2 j: 30 *: 60\n"
     ]
    }
   ],
   "source": [
    "\n",
    "# for it in iterator:\n",
    "#    code\n",
    "# range(fin)\n",
    "# range(ini, fin)\n",
    "# range(ini, fin, step)\n",
    "n = int(input())\n",
    "for i in range(n):\n",
    "    j = int(input())\n",
    "    print (\"i:\", i, \"j:\", j, \"*:\", j * i)"
   ]
  },
  {
   "cell_type": "code",
   "execution_count": 13,
   "metadata": {},
   "outputs": [
    {
     "name": "stdout",
     "output_type": "stream",
     "text": [
      "-2\n",
      "1\n",
      "4\n",
      "7\n"
     ]
    }
   ],
   "source": [
    "for i in range(-2, 10, 3):\n",
    "    print(i)\n"
   ]
  },
  {
   "cell_type": "code",
   "execution_count": 28,
   "metadata": {},
   "outputs": [
    {
     "name": "stdout",
     "output_type": "stream",
     "text": [
      "oi\n",
      " mundo%mundo\n"
     ]
    }
   ],
   "source": [
    "print(\"oi\\n mundo\", end=\"%\")\n",
    "print(\"mundo\")"
   ]
  },
  {
   "cell_type": "code",
   "execution_count": 36,
   "metadata": {},
   "outputs": [
    {
     "name": "stdout",
     "output_type": "stream",
     "text": [
      "8\n"
     ]
    }
   ],
   "source": []
  },
  {
   "cell_type": "code",
   "execution_count": 5,
   "metadata": {},
   "outputs": [
    {
     "name": "stdout",
     "output_type": "stream",
     "text": [
      "<class 'list'>\n",
      "[]\n",
      "<class 'list'>\n",
      "[]\n",
      "<class 'list'>\n",
      "[1, 2, 3, 4]\n",
      "<class 'list'>\n",
      "['1', 'a', 'b']\n",
      "<class 'list'>\n",
      "[1, 'a', 'b']\n"
     ]
    }
   ],
   "source": [
    "# Lists or array\n",
    "l1 = list()\n",
    "l2 = []\n",
    "l3 = [1,2,3,4]\n",
    "l4 = [\"1\", \"a\", \"b\"]\n",
    "l5 = [1, \"a\", \"b\"]\n",
    "\n",
    "print(type(l1))\n",
    "print(l1)\n",
    "print(type(l2))\n",
    "print(l2)\n",
    "print(type(l3))\n",
    "print(l3)\n",
    "print(type(l4))\n",
    "print(l4)\n",
    "print(type(l5))\n",
    "print(l5)"
   ]
  },
  {
   "cell_type": "code",
   "execution_count": 21,
   "metadata": {},
   "outputs": [
    {
     "name": "stdout",
     "output_type": "stream",
     "text": [
      "1\n",
      "a\n",
      "b\n",
      "--------------------\n",
      "len: 3\n",
      "1\n",
      "a\n",
      "b\n"
     ]
    }
   ],
   "source": [
    "# Read\n",
    "for element in l5:\n",
    "    print(element)\n",
    "\n",
    "print(5 * \"----\")\n",
    "# Get length from list\n",
    "print(\"len:\",len(l5))\n",
    "\n",
    "for i in range(len(l5)):\n",
    "    print(l5[i])    \n",
    "    "
   ]
  },
  {
   "cell_type": "code",
   "execution_count": 14,
   "metadata": {},
   "outputs": [
    {
     "name": "stdout",
     "output_type": "stream",
     "text": [
      "[0, 1, 2, 3, 4, 5, 6, 7, 8, 9]\n",
      "[0, 1, 2, 3, 4, 5, 6, 7, 8, 9, 30, 38, 46, 54, 62, 70, 78, 86, 94]\n"
     ]
    }
   ],
   "source": [
    "# Add new element\n",
    "li  = []\n",
    "for i in range(10):\n",
    "    li.append(i)\n",
    "    \n",
    "print(li)\n",
    "\n",
    "for i in range(30, 100, 8):\n",
    "    li.append(i)\n",
    "    \n",
    "print(li)\n",
    "    "
   ]
  },
  {
   "cell_type": "code",
   "execution_count": 16,
   "metadata": {},
   "outputs": [
    {
     "ename": "ValueError",
     "evalue": "list.remove(x): x not in list",
     "output_type": "error",
     "traceback": [
      "\u001b[0;31m---------------------------------------------------------------------------\u001b[0m",
      "\u001b[0;31mValueError\u001b[0m                                Traceback (most recent call last)",
      "\u001b[0;32m<ipython-input-16-d85c195cd958>\u001b[0m in \u001b[0;36m<module>\u001b[0;34m()\u001b[0m\n\u001b[1;32m      1\u001b[0m \u001b[0;31m# remove element\u001b[0m\u001b[0;34m\u001b[0m\u001b[0;34m\u001b[0m\u001b[0m\n\u001b[0;32m----> 2\u001b[0;31m \u001b[0mli\u001b[0m\u001b[0;34m.\u001b[0m\u001b[0mremove\u001b[0m\u001b[0;34m(\u001b[0m\u001b[0;36m0\u001b[0m\u001b[0;34m)\u001b[0m\u001b[0;34m\u001b[0m\u001b[0m\n\u001b[0m\u001b[1;32m      3\u001b[0m \u001b[0mprint\u001b[0m\u001b[0;34m(\u001b[0m\u001b[0mli\u001b[0m\u001b[0;34m)\u001b[0m\u001b[0;34m\u001b[0m\u001b[0m\n\u001b[1;32m      4\u001b[0m \u001b[0mli\u001b[0m\u001b[0;34m.\u001b[0m\u001b[0mremove\u001b[0m\u001b[0;34m(\u001b[0m\u001b[0;36m9\u001b[0m\u001b[0;34m)\u001b[0m\u001b[0;34m\u001b[0m\u001b[0m\n\u001b[1;32m      5\u001b[0m \u001b[0mprint\u001b[0m\u001b[0;34m(\u001b[0m\u001b[0mli\u001b[0m\u001b[0;34m)\u001b[0m\u001b[0;34m\u001b[0m\u001b[0m\n",
      "\u001b[0;31mValueError\u001b[0m: list.remove(x): x not in list"
     ]
    }
   ],
   "source": [
    "# remove element\n",
    "li.remove(0)\n",
    "print(li)\n",
    "li.remove(9)\n",
    "print(li)\n",
    "li.remove(10)"
   ]
  },
  {
   "cell_type": "code",
   "execution_count": 35,
   "metadata": {},
   "outputs": [
    {
     "name": "stdout",
     "output_type": "stream",
     "text": [
      "first element: 1\n",
      "last element: 8\n",
      "last element: 8\n",
      "penultimate element: 7\n",
      "slices [2, 3, 4, 5]\n"
     ]
    }
   ],
   "source": [
    "# Access\n",
    "L = [1,2,3,4,5,6,7,8]\n",
    "print(\"first element:\", L[0])\n",
    "print(\"last element:\", L[len(L)-1])\n",
    "print(\"last element:\", L[-1])\n",
    "print(\"penultimate element:\", L[-2])\n",
    "print(\"slices\", L[1:5]) # sub array from original"
   ]
  },
  {
   "cell_type": "code",
   "execution_count": 25,
   "metadata": {},
   "outputs": [
    {
     "name": "stdout",
     "output_type": "stream",
     "text": [
      "asdasd\n",
      "<class 'str'>\n",
      " \n",
      "<class 'str'>\n",
      "12313\n",
      "<class 'str'>\n",
      "12.313\n",
      "<class 'str'>\n"
     ]
    }
   ],
   "source": [
    "# strings\n",
    "s1 = \"asdasd\"\n",
    "s2 = \" \"\n",
    "s3 = \"12313\"\n",
    "s4 = \"12.313\"\n",
    "\n",
    "\n",
    "print(s1)\n",
    "print(type(s1))\n",
    "print(s2)\n",
    "print(type(s2))\n",
    "print(s3)\n",
    "print(type(s3))\n",
    "print(s4)\n",
    "print(type(s4))"
   ]
  },
  {
   "cell_type": "code",
   "execution_count": 26,
   "metadata": {},
   "outputs": [
    {
     "name": "stdout",
     "output_type": "stream",
     "text": [
      "asdasd 12313\n"
     ]
    }
   ],
   "source": [
    "# concatenation Strings\n",
    "print(s1 + s2 + s3)"
   ]
  },
  {
   "cell_type": "code",
   "execution_count": 30,
   "metadata": {},
   "outputs": [
    {
     "name": "stdout",
     "output_type": "stream",
     "text": [
      "cantidad de palabras: 8\n",
      "Lorem\n",
      "ipsum\n",
      "erat\n",
      "placerat\n",
      "interdum\n",
      "aliquam\n",
      "eu\n",
      "viverra\n",
      "--------------------\n",
      "index: 0 word: Lorem\n",
      "index: 1 word: ipsum\n",
      "index: 2 word: erat\n",
      "index: 3 word: placerat\n",
      "index: 4 word: interdum\n",
      "index: 5 word: aliquam\n",
      "index: 6 word: eu\n",
      "index: 7 word: viverra\n"
     ]
    }
   ],
   "source": [
    "# Split\n",
    "st = \"Lorem ipsum erat placerat interdum aliquam eu viverra\"\n",
    "\n",
    "st_list = st.split(\" \")\n",
    "print(\"cantidad de palabras:\", len(st_list))\n",
    "\n",
    "for p in st_list:\n",
    "    print(p)\n",
    "\n",
    "print(5 * \"----\")\n",
    "\n",
    "for i in range(len(st_list)):\n",
    "    print(\"index:\",i, \"word:\", st_list[i])"
   ]
  },
  {
   "cell_type": "code",
   "execution_count": 31,
   "metadata": {},
   "outputs": [
    {
     "name": "stdout",
     "output_type": "stream",
     "text": [
      "Lorem\n"
     ]
    }
   ],
   "source": [
    "print(st_list[0])\n",
    "\n",
    "word0 = st_list[0]\n",
    "word1 = st_list[1]\n",
    "word2 = st_list[2]"
   ]
  },
  {
   "cell_type": "code",
   "execution_count": 36,
   "metadata": {},
   "outputs": [
    {
     "name": "stdout",
     "output_type": "stream",
     "text": [
      "{}\n",
      "<class 'dict'>\n",
      "{}\n",
      "<class 'dict'>\n"
     ]
    }
   ],
   "source": [
    "# Dictionaries\n",
    "\n",
    "# Key => value\n",
    "\n",
    "d1 = {}\n",
    "d2 = dict()\n",
    "\n",
    "print(d1)\n",
    "print(type(d1))\n",
    "\n",
    "print(d2)\n",
    "print(type(d2))\n"
   ]
  },
  {
   "cell_type": "code",
   "execution_count": null,
   "metadata": {},
   "outputs": [],
   "source": [
    "# add element\n",
    "# for key, value in dict\n",
    "# get keys\n",
    "# get values\n",
    "# in\n",
    "# not in\n",
    "# mix dict and list with arrays\n",
    "\n",
    "# functions com prints"
   ]
  },
  {
   "cell_type": "code",
   "execution_count": 2,
   "metadata": {},
   "outputs": [
    {
     "name": "stdout",
     "output_type": "stream",
     "text": [
      "{'h': 2}\n",
      "{'h': 2, 'm': 'string', 'l': 1.0, 8: 0.9}\n"
     ]
    }
   ],
   "source": [
    "d1 = {}\n",
    "\n",
    "d1[\"h\"] = 2\n",
    "\n",
    "print(d1)\n",
    "\n",
    "d1[\"m\"] = \"string\"\n",
    "d1[\"l\"] = 1.0\n",
    "d1[8] = 0.9\n",
    "\n",
    "print(d1)"
   ]
  },
  {
   "cell_type": "code",
   "execution_count": 3,
   "metadata": {},
   "outputs": [
    {
     "ename": "KeyError",
     "evalue": "'asdad'",
     "output_type": "error",
     "traceback": [
      "\u001b[0;31m---------------------------------------------------------------------------\u001b[0m",
      "\u001b[0;31mKeyError\u001b[0m                                  Traceback (most recent call last)",
      "\u001b[0;32m<ipython-input-3-30d392a63b57>\u001b[0m in \u001b[0;36m<module>\u001b[0;34m()\u001b[0m\n\u001b[0;32m----> 1\u001b[0;31m \u001b[0mprint\u001b[0m\u001b[0;34m(\u001b[0m\u001b[0md1\u001b[0m\u001b[0;34m[\u001b[0m\u001b[0;34m\"asdad\"\u001b[0m\u001b[0;34m]\u001b[0m\u001b[0;34m)\u001b[0m\u001b[0;34m\u001b[0m\u001b[0m\n\u001b[0m",
      "\u001b[0;31mKeyError\u001b[0m: 'asdad'"
     ]
    }
   ],
   "source": [
    "print(d1[\"asdad\"])"
   ]
  },
  {
   "cell_type": "code",
   "execution_count": 4,
   "metadata": {},
   "outputs": [
    {
     "name": "stdout",
     "output_type": "stream",
     "text": [
      "h --> 2\n",
      "m --> string\n",
      "l --> 1.0\n",
      "8 --> 0.9\n"
     ]
    }
   ],
   "source": [
    "for key, value in d1.items():\n",
    "    print(key, \"-->\", value)"
   ]
  },
  {
   "cell_type": "code",
   "execution_count": 5,
   "metadata": {},
   "outputs": [
    {
     "data": {
      "text/plain": [
       "['h', 'm', 'l', 8]"
      ]
     },
     "execution_count": 5,
     "metadata": {},
     "output_type": "execute_result"
    }
   ],
   "source": [
    "list(d1.keys())"
   ]
  },
  {
   "cell_type": "code",
   "execution_count": 6,
   "metadata": {},
   "outputs": [
    {
     "data": {
      "text/plain": [
       "[2, 'string', 1.0, 0.9]"
      ]
     },
     "execution_count": 6,
     "metadata": {},
     "output_type": "execute_result"
    }
   ],
   "source": [
    "list(d1.values())"
   ]
  },
  {
   "cell_type": "code",
   "execution_count": 7,
   "metadata": {},
   "outputs": [
    {
     "data": {
      "text/plain": [
       "False"
      ]
     },
     "execution_count": 7,
     "metadata": {},
     "output_type": "execute_result"
    }
   ],
   "source": [
    "'a' in d1"
   ]
  },
  {
   "cell_type": "code",
   "execution_count": 8,
   "metadata": {},
   "outputs": [
    {
     "data": {
      "text/plain": [
       "True"
      ]
     },
     "execution_count": 8,
     "metadata": {},
     "output_type": "execute_result"
    }
   ],
   "source": [
    "'i' not in d1"
   ]
  },
  {
   "cell_type": "code",
   "execution_count": 49,
   "metadata": {},
   "outputs": [
    {
     "name": "stdout",
     "output_type": "stream",
     "text": [
      "{'h': 2, 'm': 'string', 'l': 1.0, 8: 0.9, 'list': [1, 2, 3, 4]}\n"
     ]
    }
   ],
   "source": [
    "d1[\"list\"] = [1,2,3,4]\n",
    "\n",
    "print(d1)"
   ]
  },
  {
   "cell_type": "code",
   "execution_count": 51,
   "metadata": {},
   "outputs": [
    {
     "name": "stdout",
     "output_type": "stream",
     "text": [
      "{'h': 2, 'm': 'string', 'l': 1.0, 8: 0.9, 'list': [1, 2, 3, 4, -1]}\n"
     ]
    }
   ],
   "source": [
    "d1[\"list\"].append(-1)\n",
    "print(d1)"
   ]
  },
  {
   "cell_type": "code",
   "execution_count": 52,
   "metadata": {},
   "outputs": [
    {
     "name": "stdout",
     "output_type": "stream",
     "text": [
      "[1, 2, 3, [9, 0, 1]]\n"
     ]
    }
   ],
   "source": [
    "l1 = [1,2,3]\n",
    "\n",
    "l1.append([9,0,1])\n",
    "\n",
    "print(l1)"
   ]
  },
  {
   "cell_type": "code",
   "execution_count": 53,
   "metadata": {},
   "outputs": [
    {
     "name": "stdout",
     "output_type": "stream",
     "text": [
      "[1, 2, 3, [9, 0, 1], {'a': 5, '9': '123'}]\n"
     ]
    }
   ],
   "source": [
    "l1.append({\"a\": 5, \"9\": \"123\"})\n",
    "\n",
    "print(l1)"
   ]
  },
  {
   "cell_type": "code",
   "execution_count": 59,
   "metadata": {},
   "outputs": [
    {
     "name": "stdout",
     "output_type": "stream",
     "text": [
      "{'juan': [], 'var1': [], 'var4': [], 'var5': []}\n"
     ]
    }
   ],
   "source": [
    "var1 = \"juan\"\n",
    "\n",
    "d = {}\n",
    "\n",
    "d[var1] = []\n",
    "d[\"var1\"] = []\n",
    "d[\"var4\"] = []\n",
    "d[\"var5\"] = []\n",
    "\n",
    "print(d)\n"
   ]
  },
  {
   "cell_type": "code",
   "execution_count": 60,
   "metadata": {},
   "outputs": [
    {
     "name": "stdout",
     "output_type": "stream",
     "text": [
      "['a', 'c', 'h', 's', 'z']\n"
     ]
    }
   ],
   "source": [
    "a = [\"a\", \"c\", \"z\", \"s\", \"h\"]\n",
    "a.sort()\n",
    "\n",
    "print(a)"
   ]
  },
  {
   "cell_type": "code",
   "execution_count": 68,
   "metadata": {},
   "outputs": [
    {
     "name": "stdout",
     "output_type": "stream",
     "text": [
      "5\n"
     ]
    }
   ],
   "source": [
    "print(len(a))"
   ]
  },
  {
   "cell_type": "code",
   "execution_count": 1,
   "metadata": {},
   "outputs": [
    {
     "name": "stdout",
     "output_type": "stream",
     "text": [
      "hello world\n"
     ]
    }
   ],
   "source": [
    "# Functions\n",
    "\n",
    "def print0():\n",
    "    print(\"hello world\")\n",
    "    \n",
    "print0()"
   ]
  },
  {
   "cell_type": "code",
   "execution_count": 2,
   "metadata": {},
   "outputs": [
    {
     "name": "stdout",
     "output_type": "stream",
     "text": [
      "hello: str1\n",
      "hello: miguel\n",
      "hello: brazil\n"
     ]
    }
   ],
   "source": [
    "def print1(str1):\n",
    "    print(\"hello:\", str1)\n",
    "print1(\"str1\")\n",
    "print1(\"miguel\")\n",
    "print1(\"brazil\")"
   ]
  },
  {
   "cell_type": "code",
   "execution_count": 3,
   "metadata": {},
   "outputs": [
    {
     "name": "stdout",
     "output_type": "stream",
     "text": [
      "3\n",
      "3.8\n",
      "helloworld\n"
     ]
    }
   ],
   "source": [
    "def f1(param1, param2):\n",
    "    return param1 + param2\n",
    "\n",
    "print(f1(1,2))\n",
    "print(f1(1.3,2.5))\n",
    "print(f1(\"hello\", \"world\"))"
   ]
  },
  {
   "cell_type": "code",
   "execution_count": 5,
   "metadata": {},
   "outputs": [
    {
     "name": "stdout",
     "output_type": "stream",
     "text": [
      "6\n",
      "59.778000000000006\n",
      "hello hello hello hello hello hello hello hello hello hello hello hello \n"
     ]
    }
   ],
   "source": [
    "def f2(param1, param2, param3):\n",
    "    return param1 * param2 * param3\n",
    "\n",
    "print(f2(1,2,3))\n",
    "print(f2(1.23, 5.4, 9.0))\n",
    "print(f2(3, \"hello \", 4))"
   ]
  },
  {
   "cell_type": "code",
   "execution_count": 6,
   "metadata": {},
   "outputs": [
    {
     "name": "stdout",
     "output_type": "stream",
     "text": [
      "27\n",
      "35.684\n",
      "27.0\n"
     ]
    }
   ],
   "source": [
    "def f3(param1, param2, param3, param4):\n",
    "    return f1(param1, param2) + f2(param2, param3, param4)\n",
    "\n",
    "print(f3(1, 2, 3, 4))\n",
    "print(f3(1.0, 2.3, 3.2, 4.4))\n",
    "print(f3(1.0, 2, 3.0, 4))"
   ]
  },
  {
   "cell_type": "code",
   "execution_count": 7,
   "metadata": {},
   "outputs": [
    {
     "name": "stdout",
     "output_type": "stream",
     "text": [
      "3.5\n",
      "3.733333333333333\n",
      "3.6\n"
     ]
    }
   ],
   "source": [
    "def mean(array):\n",
    "    quantity = len(array)\n",
    "    sum = 0.0\n",
    "    for element in array:\n",
    "        sum += element\n",
    "\n",
    "    return sum/quantity\n",
    "\n",
    "print(mean([1,2,3,4,5,6]))\n",
    "print(mean([1.0,2.3,3.2,4.3,5.5,6.1]))\n",
    "print(mean([1.0,2,3.2,4.1,5,6.3]))"
   ]
  },
  {
   "cell_type": "code",
   "execution_count": 29,
   "metadata": {},
   "outputs": [
    {
     "name": "stdout",
     "output_type": "stream",
     "text": [
      "[[0, 0, 0, 0, 0, 0, 0], [1, 2, 3, 4, 5, 6, 7], [2, 4, 6, 8, 10, 12, 14], [3, 6, 9, 12, 15, 18, 21], [4, 8, 12, 16, 20, 24, 28], [5, 10, 15, 20, 25, 30, 35], [6, 12, 18, 24, 30, 36, 42], [7, 14, 21, 28, 35, 42, 49], [8, 16, 24, 32, 40, 48, 56], [9, 18, 27, 36, 45, 54, 63]]\n"
     ]
    }
   ],
   "source": [
    "# Matrix\n",
    "\n",
    "m = []\n",
    "for i in range(10):\n",
    "    m.append([i*1,i*2,i*3,i*4,i*5,i*6,i*7])\n",
    "    \n",
    "print(m)"
   ]
  },
  {
   "cell_type": "code",
   "execution_count": 30,
   "metadata": {},
   "outputs": [
    {
     "name": "stdout",
     "output_type": "stream",
     "text": [
      "0 0 0 0 0 0 0\n",
      "1 2 3 4 5 6 7\n",
      "2 4 6 8 10 12 14\n",
      "3 6 9 12 15 18 21\n",
      "4 8 12 16 20 24 28\n",
      "5 10 15 20 25 30 35\n",
      "6 12 18 24 30 36 42\n",
      "7 14 21 28 35 42 49\n",
      "8 16 24 32 40 48 56\n",
      "9 18 27 36 45 54 63\n"
     ]
    }
   ],
   "source": [
    "def print_map(map):\n",
    "    for i in range(len(map)):\n",
    "            print(' '.join(str(e) for e in map[i]))\n",
    "\n",
    "            \n",
    "print_map(m)"
   ]
  },
  {
   "cell_type": "code",
   "execution_count": 31,
   "metadata": {},
   "outputs": [
    {
     "name": "stdout",
     "output_type": "stream",
     "text": [
      "[5, 10, 15, 20, 25, 30, 35]\n",
      "20\n"
     ]
    }
   ],
   "source": [
    "# Access\n",
    "i = 5\n",
    "j = 3\n",
    "\n",
    "print(m[i]) # get list i\n",
    "print(m[i][j]) # get element j in list i"
   ]
  },
  {
   "cell_type": "code",
   "execution_count": 32,
   "metadata": {},
   "outputs": [
    {
     "name": "stdout",
     "output_type": "stream",
     "text": [
      "0 0 0 0 0 0 0\n",
      "1 2 - 4 5 6 7\n",
      "2 4 6 8 10 12 14\n",
      "- 6 9 12 15 18 21\n",
      "4 8 12 16 20 24 28\n",
      "5 10 15 20 25 30 35\n",
      "6 12 18 24 30 36 42\n",
      "7 14 21 28 35 42 49\n",
      "8 16 24 32 40 48 56\n",
      "9 18 27 36 45 54 63\n"
     ]
    }
   ],
   "source": [
    "# Read horizontal\n",
    "# change 3 for -\n",
    "\n",
    "for i in range(len(m)):\n",
    "    for j in range(len(m[i])):\n",
    "        if m[i][j] == 3:\n",
    "            m[i][j] = '-'\n",
    "\n",
    "print_map(m)"
   ]
  },
  {
   "cell_type": "code",
   "execution_count": 45,
   "metadata": {},
   "outputs": [
    {
     "name": "stdout",
     "output_type": "stream",
     "text": [
      ". . . . . . .\n",
      ". . . . . . .\n",
      ". . . . . . .\n",
      ". . . . . . .\n",
      ". . . . . . .\n",
      ". . . . . . .\n",
      ". . . . . . .\n",
      ". . . . . . .\n",
      ". . . . . . .\n",
      ". . . . . . .\n"
     ]
    }
   ],
   "source": [
    "m_1 = []\n",
    "for i in range(len(m)):\n",
    "    m_1.append([])\n",
    "    for j in range(len(m[i])):\n",
    "        m_1[i].append('.')\n",
    "        \n",
    "print_map(m_1)\n"
   ]
  },
  {
   "cell_type": "code",
   "execution_count": 46,
   "metadata": {},
   "outputs": [
    {
     "name": "stdout",
     "output_type": "stream",
     "text": [
      ". . . . . . .\n",
      ". . . . . . .\n",
      ". . . . . . .\n",
      ". . . . . . .\n",
      ". . . . . . .\n",
      ". . . . . . .\n",
      ". . . . . . .\n",
      ". . . . . . .\n",
      ". . . . . . .\n",
      ". . . . . . .\n"
     ]
    }
   ],
   "source": [
    "m_2 = [[\".\" for j in range(len(m[i]))] for i in range(len(m))]\n",
    "print_map(m_2)"
   ]
  },
  {
   "cell_type": "code",
   "execution_count": 47,
   "metadata": {},
   "outputs": [
    {
     "name": "stdout",
     "output_type": "stream",
     "text": [
      "True [(1, 4), (1, 3), (1, 2)]\n"
     ]
    }
   ],
   "source": [
    "def find_horizontal_reversed(map, word):\n",
    "    c = 0\n",
    "    max_count = len(word)\n",
    "    coords = []\n",
    "\n",
    "    for i in reversed(range(len(map))):\n",
    "        for j in reversed(range(len(map[i]))):\n",
    "            if c == max_count:\n",
    "                break\n",
    "            if word[c] == str(map[i][j]):\n",
    "                c +=1\n",
    "                coords.append((i,j))\n",
    "            elif c > 0:\n",
    "                c = 0\n",
    "                coords =[]\n",
    "    if c != max_count:\n",
    "        return False, []\n",
    "    else:\n",
    "        return True, coords  \n",
    "\n",
    "find, coords = find_horizontal_reversed(m, '54-')\n",
    "print(find, coords)"
   ]
  },
  {
   "cell_type": "code",
   "execution_count": 48,
   "metadata": {},
   "outputs": [
    {
     "name": "stdout",
     "output_type": "stream",
     "text": [
      ". . . . . . .\n",
      ". . - 4 5 . .\n",
      ". . . . . . .\n",
      ". . . . . . .\n",
      ". . . . . . .\n",
      ". . . . . . .\n",
      ". . . . . . .\n",
      ". . . . . . .\n",
      ". . . . . . .\n",
      ". . . . . . .\n"
     ]
    }
   ],
   "source": [
    "for  coord in coords:\n",
    "    m_1[coord[0]][coord[1]] = m[coord[0]][coord[1]]\n",
    "\n",
    "print_map(m_1)"
   ]
  },
  {
   "cell_type": "code",
   "execution_count": 51,
   "metadata": {},
   "outputs": [
    {
     "name": "stdout",
     "output_type": "stream",
     "text": [
      "Diagonals: ([[9], [8, 18], [7, 16, 27], [6, 14, 24, 36], [5, 12, 21, 32, 45], [4, 10, 18, 28, 40, 54], ['-', 8, 15, 24, 35, 48, 63], [2, 6, 12, 20, 30, 42, 56], [1, 4, 9, 16, 25, 36, 49], [0, 2, 6, 12, 20, 30, 42], [0, '-', 8, 15, 24, 35], [0, 4, 10, 18, 28], [0, 5, 12, 21], [0, 6, 14], [0, 7], [0]], [[(9, 0)], [(8, 0), (9, 1)], [(7, 0), (8, 1), (9, 2)], [(6, 0), (7, 1), (8, 2), (9, 3)], [(5, 0), (6, 1), (7, 2), (8, 3), (9, 4)], [(4, 0), (5, 1), (6, 2), (7, 3), (8, 4), (9, 5)], [(3, 0), (4, 1), (5, 2), (6, 3), (7, 4), (8, 5), (9, 6)], [(2, 0), (3, 1), (4, 2), (5, 3), (6, 4), (7, 5), (8, 6)], [(1, 0), (2, 1), (3, 2), (4, 3), (5, 4), (6, 5), (7, 6)], [(0, 0), (1, 1), (2, 2), (3, 3), (4, 4), (5, 5), (6, 6)], [(0, 1), (1, 2), (2, 3), (3, 4), (4, 5), (5, 6)], [(0, 2), (1, 3), (2, 4), (3, 5), (4, 6)], [(0, 3), (1, 4), (2, 5), (3, 6)], [(0, 4), (1, 5), (2, 6)], [(0, 5), (1, 6)], [(0, 6)]])\n",
      "Antidiagonals: ([[0], [1, 0], [2, 2, 0], ['-', 4, '-', 0], [4, 6, 6, 4, 0], [5, 8, 9, 8, 5, 0], [6, 10, 12, 12, 10, 6, 0], [7, 12, 15, 16, 15, 12, 7], [8, 14, 18, 20, 20, 18, 14], [9, 16, 21, 24, 25, 24, 21], [18, 24, 28, 30, 30, 28], [27, 32, 35, 36, 35], [36, 40, 42, 42], [45, 48, 49], [54, 56], [63]], [[(0, 0)], [(1, 0), (0, 1)], [(2, 0), (1, 1), (0, 2)], [(3, 0), (2, 1), (1, 2), (0, 3)], [(4, 0), (3, 1), (2, 2), (1, 3), (0, 4)], [(5, 0), (4, 1), (3, 2), (2, 3), (1, 4), (0, 5)], [(6, 0), (5, 1), (4, 2), (3, 3), (2, 4), (1, 5), (0, 6)], [(7, 0), (6, 1), (5, 2), (4, 3), (3, 4), (2, 5), (1, 6)], [(8, 0), (7, 1), (6, 2), (5, 3), (4, 4), (3, 5), (2, 6)], [(9, 0), (8, 1), (7, 2), (6, 3), (5, 4), (4, 5), (3, 6)], [(9, 1), (8, 2), (7, 3), (6, 4), (5, 5), (4, 6)], [(9, 2), (8, 3), (7, 4), (6, 5), (5, 6)], [(9, 3), (8, 4), (7, 5), (6, 6)], [(9, 4), (8, 5), (7, 6)], [(9, 5), (8, 6)], [(9, 6)]])\n"
     ]
    }
   ],
   "source": [
    "def diagonals(m):\n",
    "    \"\"\"\n",
    "    https://stackoverflow.com/a/31373955/190597 (unutbu)\n",
    "    >>> m = array([[ 0,  1,  2],\n",
    "                   [ 3,  4,  5],\n",
    "                   [ 6,  7,  8],\n",
    "                   [ 9, 10, 11]])\n",
    "\n",
    "    >>> diagonals(m)\n",
    "    [[9], [6, 10], [3, 7, 11], [0, 4, 8], [1, 5], [2]]\n",
    "    \"\"\"\n",
    "    h, w = len(m), len(m[0])\n",
    "    diags = [[m[h - p + q - 1][q] for q in range(max(p-h+1, 0), min(p+1, w))] for p in range(h + w - 1)]\n",
    "    coords = [[ (h - p + q - 1,q) for q in range(max(p-h+1, 0), min(p+1, w))] for p in range(h + w - 1)]\n",
    "\n",
    "    return diags, coords\n",
    "\n",
    "\n",
    "def antidiagonals(m):\n",
    "    \"\"\"\n",
    "    >>> m = array([[ 0,  1,  2],\n",
    "                   [ 3,  4,  5],\n",
    "                   [ 6,  7,  8],\n",
    "                   [ 9, 10, 11]])\n",
    "\n",
    "    >>> antidiagonals(m)\n",
    "    [[0], [3, 1], [6, 4, 2], [9, 7, 5], [10, 8], [11]]\n",
    "    \"\"\"\n",
    "    h, w = len(m), len(m[0])\n",
    "    anti_diags = [[m[p - q][q] for q in range(max(p-h+1,0), min(p+1, w))] for p in range(h + w - 1)]\n",
    "    coords = [[(p - q, q) for q in range(max(p-h+1,0), min(p+1, w))] for p in range(h + w - 1)]\n",
    "    return anti_diags, coords\n",
    "\n",
    "print(\"Diagonals:\", diagonals(m))\n",
    "print(\"Antidiagonals:\", antidiagonals(m))"
   ]
  },
  {
   "cell_type": "code",
   "execution_count": null,
   "metadata": {},
   "outputs": [],
   "source": []
  }
 ],
 "metadata": {
  "kernelspec": {
   "display_name": "my-virtualenv-name",
   "language": "python",
   "name": "my-virtualenv-name"
  },
  "language_info": {
   "codemirror_mode": {
    "name": "ipython",
    "version": 3
   },
   "file_extension": ".py",
   "mimetype": "text/x-python",
   "name": "python",
   "nbconvert_exporter": "python",
   "pygments_lexer": "ipython3",
   "version": "3.6.0"
  }
 },
 "nbformat": 4,
 "nbformat_minor": 2
}
